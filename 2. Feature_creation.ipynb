{
 "cells": [
  {
   "cell_type": "code",
   "execution_count": 105,
   "metadata": {},
   "outputs": [],
   "source": [
    "import pandas as pd\n",
    "import numpy as np\n",
    "import seaborn as sns\n",
    "import matplotlib.pyplot as plt\n",
    "from random import choice\n",
    "from sklearn.model_selection import train_test_split\n",
    "from sklearn.ensemble import RandomForestClassifier\n",
    "import statsmodels.api as sm\n",
    "from statsmodels.tsa.stattools import adfuller\n",
    "from statsmodels.tsa.arima_model import ARIMA\n",
    "from sklearn.linear_model import LogisticRegression"
   ]
  },
  {
   "cell_type": "markdown",
   "metadata": {},
   "source": [
    "Now we are going to create some features that can help us to distinguish between real ans synthetic time series. "
   ]
  },
  {
   "cell_type": "code",
   "execution_count": 202,
   "metadata": {},
   "outputs": [],
   "source": [
    "data0=pd.read_csv(\"input/TrainMyriad.csv\")\n",
    "X0=data0.drop(columns=[\"Class\"])\n",
    "y0=data0[\"Class\"]"
   ]
  },
  {
   "cell_type": "code",
   "execution_count": 203,
   "metadata": {},
   "outputs": [],
   "source": [
    "X0[\"mean\"]=X0.apply(lambda x:x.mean(), axis=1)\n",
    "X0[\"std\"]=X0[X0.columns[0:253]].apply(lambda x:x.std(), axis=1)\n",
    "X0[\"autocorr\"]=X0[X0.columns[0:253]].apply(lambda x:x.autocorr(), axis=1)\n",
    "X0[\"kurtosis\"]=X0[X0.columns[0:253]].apply(lambda x:x.kurtosis(), axis=1)\n",
    "X0[\"Q1\"]=X0[X0.columns[0:253]].apply(lambda x:x.quantile(q=0.25), axis=1)\n",
    "X0[\"Q2\"]=X0[X0.columns[0:253]].apply(lambda x:x.quantile(q=0.50), axis=1)\n",
    "X0[\"Q3\"]=X0[X0.columns[0:253]].apply(lambda x:x.quantile(q=0.75), axis=1)\n",
    "#X0[\"Dickey-Fuller\"]=X0[X0.columns[0:253]].apply(lambda x:adfuller(x)[0], axis=1)\n"
   ]
  },
  {
   "cell_type": "code",
   "execution_count": 204,
   "metadata": {
    "scrolled": false
   },
   "outputs": [
    {
     "data": {
      "text/plain": [
       "0.498"
      ]
     },
     "execution_count": 204,
     "metadata": {},
     "output_type": "execute_result"
    }
   ],
   "source": [
    "X0_train,X0_test, y0_train,y0_test=train_test_split(X0,y0, train_size=0.8)\n",
    "LR=LogisticRegression()\n",
    "LR.fit(X0_train,y0_train)\n",
    "LR.score(X0_test, y0_test)"
   ]
  },
  {
   "cell_type": "code",
   "execution_count": null,
   "metadata": {},
   "outputs": [],
   "source": [
    "model = ARIMA(x, order=(5,1,0))"
   ]
  }
 ],
 "metadata": {
  "kernelspec": {
   "display_name": "Python 3",
   "language": "python",
   "name": "python3"
  },
  "language_info": {
   "codemirror_mode": {
    "name": "ipython",
    "version": 3
   },
   "file_extension": ".py",
   "mimetype": "text/x-python",
   "name": "python",
   "nbconvert_exporter": "python",
   "pygments_lexer": "ipython3",
   "version": "3.6.9"
  }
 },
 "nbformat": 4,
 "nbformat_minor": 4
}
