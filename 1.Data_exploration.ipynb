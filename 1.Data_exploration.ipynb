{
 "cells": [
  {
   "cell_type": "code",
   "execution_count": 1,
   "metadata": {},
   "outputs": [],
   "source": [
    "import pandas as pd\n",
    "import numpy as np\n",
    "import seaborn as sns\n",
    "import matplotlib.pyplot as plt\n",
    "from random import choice\n",
    "from sklearn.model_selection import train_test_split\n",
    "from sklearn.ensemble import RandomForestClassifier"
   ]
  },
  {
   "cell_type": "code",
   "execution_count": 2,
   "metadata": {},
   "outputs": [
    {
     "data": {
      "text/html": [
       "<div>\n",
       "<style scoped>\n",
       "    .dataframe tbody tr th:only-of-type {\n",
       "        vertical-align: middle;\n",
       "    }\n",
       "\n",
       "    .dataframe tbody tr th {\n",
       "        vertical-align: top;\n",
       "    }\n",
       "\n",
       "    .dataframe thead th {\n",
       "        text-align: right;\n",
       "    }\n",
       "</style>\n",
       "<table border=\"1\" class=\"dataframe\">\n",
       "  <thead>\n",
       "    <tr style=\"text-align: right;\">\n",
       "      <th></th>\n",
       "      <th>0</th>\n",
       "      <th>1</th>\n",
       "      <th>2</th>\n",
       "      <th>3</th>\n",
       "      <th>4</th>\n",
       "      <th>5</th>\n",
       "      <th>6</th>\n",
       "      <th>7</th>\n",
       "      <th>8</th>\n",
       "      <th>9</th>\n",
       "      <th>...</th>\n",
       "      <th>244</th>\n",
       "      <th>245</th>\n",
       "      <th>246</th>\n",
       "      <th>247</th>\n",
       "      <th>248</th>\n",
       "      <th>249</th>\n",
       "      <th>250</th>\n",
       "      <th>251</th>\n",
       "      <th>252</th>\n",
       "      <th>Class</th>\n",
       "    </tr>\n",
       "  </thead>\n",
       "  <tbody>\n",
       "    <tr>\n",
       "      <th>0</th>\n",
       "      <td>0.006353</td>\n",
       "      <td>0.012099</td>\n",
       "      <td>0.008836</td>\n",
       "      <td>0.006182</td>\n",
       "      <td>-0.029186</td>\n",
       "      <td>-0.020042</td>\n",
       "      <td>0.000000</td>\n",
       "      <td>-0.045210</td>\n",
       "      <td>0.011838</td>\n",
       "      <td>-0.033426</td>\n",
       "      <td>...</td>\n",
       "      <td>0.002667</td>\n",
       "      <td>-0.005319</td>\n",
       "      <td>-0.001604</td>\n",
       "      <td>-0.001071</td>\n",
       "      <td>-0.010724</td>\n",
       "      <td>0.012466</td>\n",
       "      <td>-0.014989</td>\n",
       "      <td>0.005978</td>\n",
       "      <td>-0.000540</td>\n",
       "      <td>1</td>\n",
       "    </tr>\n",
       "    <tr>\n",
       "      <th>1</th>\n",
       "      <td>0.008518</td>\n",
       "      <td>0.000000</td>\n",
       "      <td>0.006888</td>\n",
       "      <td>-0.017510</td>\n",
       "      <td>0.012682</td>\n",
       "      <td>0.007612</td>\n",
       "      <td>0.022258</td>\n",
       "      <td>-0.002622</td>\n",
       "      <td>0.001833</td>\n",
       "      <td>-0.004136</td>\n",
       "      <td>...</td>\n",
       "      <td>0.017926</td>\n",
       "      <td>-0.010008</td>\n",
       "      <td>0.013714</td>\n",
       "      <td>-0.037801</td>\n",
       "      <td>-0.004499</td>\n",
       "      <td>0.007586</td>\n",
       "      <td>-0.022667</td>\n",
       "      <td>0.025406</td>\n",
       "      <td>0.017743</td>\n",
       "      <td>1</td>\n",
       "    </tr>\n",
       "    <tr>\n",
       "      <th>2</th>\n",
       "      <td>-0.002749</td>\n",
       "      <td>-0.007983</td>\n",
       "      <td>-0.002683</td>\n",
       "      <td>-0.003074</td>\n",
       "      <td>-0.007709</td>\n",
       "      <td>-0.029132</td>\n",
       "      <td>-0.005001</td>\n",
       "      <td>-0.013168</td>\n",
       "      <td>0.000306</td>\n",
       "      <td>0.016701</td>\n",
       "      <td>...</td>\n",
       "      <td>-0.034084</td>\n",
       "      <td>-0.021786</td>\n",
       "      <td>0.009724</td>\n",
       "      <td>-0.002485</td>\n",
       "      <td>0.010277</td>\n",
       "      <td>-0.002466</td>\n",
       "      <td>-0.007417</td>\n",
       "      <td>-0.022416</td>\n",
       "      <td>0.013376</td>\n",
       "      <td>0</td>\n",
       "    </tr>\n",
       "    <tr>\n",
       "      <th>3</th>\n",
       "      <td>-0.006397</td>\n",
       "      <td>-0.008048</td>\n",
       "      <td>0.009736</td>\n",
       "      <td>-0.008437</td>\n",
       "      <td>0.019044</td>\n",
       "      <td>0.009145</td>\n",
       "      <td>0.012608</td>\n",
       "      <td>-0.008171</td>\n",
       "      <td>0.006669</td>\n",
       "      <td>0.003118</td>\n",
       "      <td>...</td>\n",
       "      <td>-0.005309</td>\n",
       "      <td>0.001001</td>\n",
       "      <td>-0.007331</td>\n",
       "      <td>0.001678</td>\n",
       "      <td>0.012064</td>\n",
       "      <td>-0.008609</td>\n",
       "      <td>-0.005344</td>\n",
       "      <td>-0.011081</td>\n",
       "      <td>-0.003056</td>\n",
       "      <td>0</td>\n",
       "    </tr>\n",
       "    <tr>\n",
       "      <th>4</th>\n",
       "      <td>-0.002278</td>\n",
       "      <td>-0.021309</td>\n",
       "      <td>0.004666</td>\n",
       "      <td>0.027090</td>\n",
       "      <td>0.026375</td>\n",
       "      <td>-0.028634</td>\n",
       "      <td>-0.009826</td>\n",
       "      <td>0.004580</td>\n",
       "      <td>0.003799</td>\n",
       "      <td>0.024981</td>\n",
       "      <td>...</td>\n",
       "      <td>-0.034297</td>\n",
       "      <td>-0.049443</td>\n",
       "      <td>-0.017582</td>\n",
       "      <td>-0.000746</td>\n",
       "      <td>0.019403</td>\n",
       "      <td>-0.010249</td>\n",
       "      <td>0.008136</td>\n",
       "      <td>-0.011005</td>\n",
       "      <td>0.007418</td>\n",
       "      <td>0</td>\n",
       "    </tr>\n",
       "  </tbody>\n",
       "</table>\n",
       "<p>5 rows × 254 columns</p>\n",
       "</div>"
      ],
      "text/plain": [
       "          0         1         2         3         4         5         6  \\\n",
       "0  0.006353  0.012099  0.008836  0.006182 -0.029186 -0.020042  0.000000   \n",
       "1  0.008518  0.000000  0.006888 -0.017510  0.012682  0.007612  0.022258   \n",
       "2 -0.002749 -0.007983 -0.002683 -0.003074 -0.007709 -0.029132 -0.005001   \n",
       "3 -0.006397 -0.008048  0.009736 -0.008437  0.019044  0.009145  0.012608   \n",
       "4 -0.002278 -0.021309  0.004666  0.027090  0.026375 -0.028634 -0.009826   \n",
       "\n",
       "          7         8         9  ...       244       245       246       247  \\\n",
       "0 -0.045210  0.011838 -0.033426  ...  0.002667 -0.005319 -0.001604 -0.001071   \n",
       "1 -0.002622  0.001833 -0.004136  ...  0.017926 -0.010008  0.013714 -0.037801   \n",
       "2 -0.013168  0.000306  0.016701  ... -0.034084 -0.021786  0.009724 -0.002485   \n",
       "3 -0.008171  0.006669  0.003118  ... -0.005309  0.001001 -0.007331  0.001678   \n",
       "4  0.004580  0.003799  0.024981  ... -0.034297 -0.049443 -0.017582 -0.000746   \n",
       "\n",
       "        248       249       250       251       252  Class  \n",
       "0 -0.010724  0.012466 -0.014989  0.005978 -0.000540      1  \n",
       "1 -0.004499  0.007586 -0.022667  0.025406  0.017743      1  \n",
       "2  0.010277 -0.002466 -0.007417 -0.022416  0.013376      0  \n",
       "3  0.012064 -0.008609 -0.005344 -0.011081 -0.003056      0  \n",
       "4  0.019403 -0.010249  0.008136 -0.011005  0.007418      0  \n",
       "\n",
       "[5 rows x 254 columns]"
      ]
     },
     "execution_count": 2,
     "metadata": {},
     "output_type": "execute_result"
    }
   ],
   "source": [
    "data0=pd.read_csv(\"input/TrainMyriad.csv\")\n",
    "data0.head()"
   ]
  },
  {
   "cell_type": "markdown",
   "metadata": {},
   "source": [
    "There are no NaN values"
   ]
  },
  {
   "cell_type": "code",
   "execution_count": 3,
   "metadata": {
    "scrolled": true
   },
   "outputs": [
    {
     "data": {
      "text/plain": [
       "0"
      ]
     },
     "execution_count": 3,
     "metadata": {},
     "output_type": "execute_result"
    }
   ],
   "source": [
    "data0.isna().sum().sum()"
   ]
  },
  {
   "cell_type": "markdown",
   "metadata": {},
   "source": [
    "Splitting the dataset into X0 and y0 dataset"
   ]
  },
  {
   "cell_type": "code",
   "execution_count": 4,
   "metadata": {},
   "outputs": [],
   "source": [
    "X0=data0.drop(columns=[\"Class\"])\n",
    "y0=data0[\"Class\"]"
   ]
  },
  {
   "cell_type": "markdown",
   "metadata": {},
   "source": [
    "X0 has 5000 rows and 253 columns"
   ]
  },
  {
   "cell_type": "code",
   "execution_count": 5,
   "metadata": {},
   "outputs": [
    {
     "data": {
      "text/plain": [
       "(5000, 253)"
      ]
     },
     "execution_count": 5,
     "metadata": {},
     "output_type": "execute_result"
    }
   ],
   "source": [
    "X0.shape"
   ]
  },
  {
   "cell_type": "markdown",
   "metadata": {},
   "source": [
    "We plot some random values of our dataset to check if we can spot some differences at first sight. (Obviusly we can't, we won't be doing Machine Learning if that was the case)"
   ]
  },
  {
   "cell_type": "code",
   "execution_count": 6,
   "metadata": {
    "scrolled": false
   },
   "outputs": [
    {
     "data": {
      "image/png": "[encoded data removed]",
      "text/plain": [
       "<Figure size 864x648 with 6 Axes>"
      ]
     },
     "metadata": {
      "needs_background": "light"
     },
     "output_type": "display_data"
    }
   ],
   "source": [
    "ts_index_plot=[choice(X0.index) for i in range(6)]\n",
    "\n",
    "dict_colors={1:\"red\",0:\"blue\"}\n",
    "fig, arr=plt.subplots(3,2, figsize=(12,9));\n",
    "plt.setp(arr, ylim=[-0.5,0.5], xticks=[])\n",
    "sns.lineplot(x=X0.columns, y=X0.iloc[ts_index_plot[0]], ax=arr[0,0], color=dict_colors[y0.iloc[ts_index_plot[0]]] );\n",
    "sns.lineplot(x=X0.columns, y=X0.iloc[ts_index_plot[1]], ax=arr[1,0], color=dict_colors[y0.iloc[ts_index_plot[1]]] );\n",
    "sns.lineplot(x=X0.columns, y=X0.iloc[ts_index_plot[2]], ax=arr[2,0], color=dict_colors[y0.iloc[ts_index_plot[2]]] );\n",
    "sns.lineplot(x=X0.columns, y=X0.iloc[ts_index_plot[3]], ax=arr[0,1], color=dict_colors[y0.iloc[ts_index_plot[3]]] );\n",
    "sns.lineplot(x=X0.columns, y=X0.iloc[ts_index_plot[4]], ax=arr[1,1], color=dict_colors[y0.iloc[ts_index_plot[4]]] );\n",
    "sns.lineplot(x=X0.columns, y=X0.iloc[ts_index_plot[5]], ax=arr[2,1], color=dict_colors[y0.iloc[ts_index_plot[5]]] );\n"
   ]
  },
  {
   "cell_type": "markdown",
   "metadata": {},
   "source": [
    "We check that synthetic and real time series are close in frequency so our model won't be biased."
   ]
  },
  {
   "cell_type": "code",
   "execution_count": 7,
   "metadata": {
    "scrolled": true
   },
   "outputs": [
    {
     "data": {
      "text/plain": [
       "0    2553\n",
       "1    2447\n",
       "Name: Class, dtype: int64"
      ]
     },
     "execution_count": 7,
     "metadata": {},
     "output_type": "execute_result"
    }
   ],
   "source": [
    "y0.value_counts()"
   ]
  },
  {
   "cell_type": "markdown",
   "metadata": {},
   "source": [
    "Now we are going to try a simple Random Forest Classifier to check performance without further proccessing"
   ]
  },
  {
   "cell_type": "code",
   "execution_count": 8,
   "metadata": {},
   "outputs": [],
   "source": [
    "X0_train,X0_test, y0_train,y0_test=train_test_split(X0,y0, train_size=0.8)"
   ]
  },
  {
   "cell_type": "code",
   "execution_count": 14,
   "metadata": {},
   "outputs": [
    {
     "data": {
      "text/plain": [
       "0.522"
      ]
     },
     "execution_count": 14,
     "metadata": {},
     "output_type": "execute_result"
    }
   ],
   "source": [
    "rfc=RandomForestClassifier(n_jobs=-1)\n",
    "rfc.fit(X0_train,y0_train)\n",
    "rfc.score(X0_test, y0_test)"
   ]
  },
  {
   "cell_type": "markdown",
   "metadata": {},
   "source": [
    "So we see that we need to create more relevant features to obtain better predictions"
   ]
  }
 ],
 "metadata": {
  "kernelspec": {
   "display_name": "Python 3",
   "language": "python",
   "name": "python3"
  },
  "language_info": {
   "codemirror_mode": {
    "name": "ipython",
    "version": 3
   },
   "file_extension": ".py",
   "mimetype": "text/x-python",
   "name": "python",
   "nbconvert_exporter": "python",
   "pygments_lexer": "ipython3",
   "version": "3.6.9"
  }
 },
 "nbformat": 4,
 "nbformat_minor": 4
}
